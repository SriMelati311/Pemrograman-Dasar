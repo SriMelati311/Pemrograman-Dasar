{
  "nbformat": 4,
  "nbformat_minor": 0,
  "metadata": {
    "colab": {
      "provenance": [],
      "authorship_tag": "ABX9TyPgkAtANSlys4ZzFk2QwarC",
      "include_colab_link": true
    },
    "kernelspec": {
      "name": "python3",
      "display_name": "Python 3"
    },
    "language_info": {
      "name": "python"
    }
  },
  "cells": [
    {
      "cell_type": "markdown",
      "metadata": {
        "id": "view-in-github",
        "colab_type": "text"
      },
      "source": [
        "<a href=\"https://colab.research.google.com/github/SriMelati311/Pemrograman-Dasar/blob/main/Pertemuan_1.ipynb\" target=\"_parent\"><img src=\"https://colab.research.google.com/assets/colab-badge.svg\" alt=\"Open In Colab\"/></a>"
      ]
    },
    {
      "cell_type": "code",
      "source": [
        "# Biodata Saya\n",
        "\n",
        "nama = \"Sri Melati\"\n",
        "nim = 4232401025\n",
        "umur = 20\n",
        "jurusan = \"Teknik Elektro\"\n",
        "prodi = \"TRPE\"\n",
        "kelas = \"Pagi A\"\n",
        "semester = 3\n",
        "matakuliah = 'Pemrograman Dasar'\n",
        "status_lulus = False\n",
        "hobi_bernyanyi= True\n",
        "\n",
        "print (nama)\n",
        "print (nim)\n",
        "print (umur)\n",
        "print (jurusan)\n",
        "print (prodi)\n",
        "print (kelas)\n",
        "print (semester)\n",
        "print (matakuliah)\n",
        "print (status_lulus)\n",
        "print (hobi_bernyanyi)"
      ],
      "metadata": {
        "colab": {
          "base_uri": "https://localhost:8080/"
        },
        "id": "nTdBvyE5fYUt",
        "outputId": "1da7a1bb-a338-474a-a26d-b208fd01e17b"
      },
      "execution_count": 2,
      "outputs": [
        {
          "output_type": "stream",
          "name": "stdout",
          "text": [
            "Sri Melati\n",
            "4232401025\n",
            "20\n",
            "Teknik Elektro\n",
            "TRPE\n",
            "Pagi A\n",
            "3\n",
            "Pemrograman Dasar\n",
            "False\n",
            "True\n",
            "A\n"
          ]
        }
      ]
    },
    {
      "cell_type": "code",
      "source": [
        "# jenis Variabel, tipe data\n",
        "\n",
        "print(type(nama))\n",
        "print(type(nim))\n",
        "print(type(umur))\n",
        "print(type(jurusan))\n",
        "print(type(prodi))\n",
        "print(type(kelas))\n",
        "print(type(semester))\n",
        "print(type(matakuliah))\n",
        "print(type(status_lulus))\n",
        "print(type(hobi_bernyanyi))"
      ],
      "metadata": {
        "colab": {
          "base_uri": "https://localhost:8080/"
        },
        "id": "x86sJJlR0Tg6",
        "outputId": "467aca2e-04dd-4a8d-c07d-26162d5bc5ca"
      },
      "execution_count": null,
      "outputs": [
        {
          "output_type": "stream",
          "name": "stdout",
          "text": [
            "<class 'str'>\n",
            "<class 'int'>\n",
            "<class 'int'>\n",
            "<class 'str'>\n",
            "<class 'str'>\n",
            "<class 'str'>\n",
            "<class 'int'>\n",
            "<class 'str'>\n",
            "<class 'bool'>\n",
            "<class 'bool'>\n"
          ]
        }
      ]
    },
    {
      "cell_type": "code",
      "source": [],
      "metadata": {
        "id": "nzRYSRMj6gzk"
      },
      "execution_count": null,
      "outputs": []
    }
  ]
}