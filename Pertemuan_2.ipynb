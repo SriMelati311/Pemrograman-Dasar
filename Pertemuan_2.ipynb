{
  "nbformat": 4,
  "nbformat_minor": 0,
  "metadata": {
    "colab": {
      "provenance": [],
      "authorship_tag": "ABX9TyOaFBZhxnKfAMC4n4T6Xcu+",
      "include_colab_link": true
    },
    "kernelspec": {
      "name": "python3",
      "display_name": "Python 3"
    },
    "language_info": {
      "name": "python"
    }
  },
  "cells": [
    {
      "cell_type": "markdown",
      "metadata": {
        "id": "view-in-github",
        "colab_type": "text"
      },
      "source": [
        "<a href=\"https://colab.research.google.com/github/SriMelati311/Pemrograman-Dasar/blob/main/Pertemuan_2.ipynb\" target=\"_parent\"><img src=\"https://colab.research.google.com/assets/colab-badge.svg\" alt=\"Open In Colab\"/></a>"
      ]
    },
    {
      "cell_type": "code",
      "execution_count": 1,
      "metadata": {
        "colab": {
          "base_uri": "https://localhost:8080/"
        },
        "id": "TjTwiIqD5hIv",
        "outputId": "f62abbcb-708f-498f-af2f-44e5478f3422"
      },
      "outputs": [
        {
          "output_type": "stream",
          "name": "stdout",
          "text": [
            "===== BIODATA MAHASISWA =====\n",
            "Nama        : Sri Melati\n",
            "NIM         : 4232401025\n",
            "Umur        : 20 tahun\n",
            "Jurusan     : Teknik Elektro\n",
            "Prodi       : TRPE\n",
            "Kelas       : Pagi A\n",
            "Semester    : 3\n",
            "Mata Kuliah : Pemrograman Dasar, Kimia Dasar, Teknopreneurship\n",
            "Hobi        : Bernyanyi, Membaca, Olahraga\n",
            "Status_Lulus: Belum Lulus\n"
          ]
        }
      ],
      "source": [
        "# Implementasi Biodata dengan Non-Primitif\n",
        "\n",
        "# Tuple → Data identitas yang jarang diubah\n",
        "identitas = (\"Sri Melati\", 4232401025, 20)\n",
        "# (nama, nim, umur)\n",
        "\n",
        "# List → Data berurutan yang bisa diubah\n",
        "mata_kuliah = [\"Pemrograman Dasar\", \"Kimia Dasar\", \"Teknopreneurship\"]\n",
        "\n",
        "# Set → Data unik\n",
        "hobi = {\"Bernyanyi\", \"Membaca\", \"Olahraga\"}\n",
        "\n",
        "# Dictionary → Menyimpan keseluruhan biodata dengan key:value\n",
        "biodata = {\n",
        "    \"nama\": identitas[0],\n",
        "    \"nim\": identitas[1],\n",
        "    \"umur\": identitas[2],\n",
        "    \"jurusan\": \"Teknik Elektro\",\n",
        "    \"prodi\": \"TRPE\",\n",
        "    \"kelas\": \"Pagi A\",\n",
        "    \"semester\": 3,\n",
        "    \"mata_kuliah\": mata_kuliah,\n",
        "    \"status_lulus\": False,\n",
        "    \"hobi\": hobi}\n",
        "\n",
        "# Menampilkan Data\n",
        "\n",
        "print(\"===== BIODATA MAHASISWA =====\")\n",
        "print(\"Nama        :\", biodata['nama'])\n",
        "print(\"NIM         :\", biodata['nim'])\n",
        "print(\"Umur        :\", biodata['umur'], \"tahun\")\n",
        "print(\"Jurusan     :\", biodata['jurusan'])\n",
        "print(\"Prodi       :\", biodata['prodi'])\n",
        "print(\"Kelas       :\", biodata['kelas'])\n",
        "print(\"Semester    :\", biodata['semester'])\n",
        "print(\"Mata Kuliah :\", ', '.join(biodata['mata_kuliah']))\n",
        "print(\"Hobi        :\", ', '.join(biodata['hobi']))\n",
        "print(\"Status_Lulus:\", 'Lulus' if biodata['status_lulus'] else 'Belum Lulus')"
      ]
    },
    {
      "cell_type": "code",
      "source": [
        "nama: str = \"Sri Melati\"\n",
        "nim: int = 4232401025\n",
        "umur: int = 20\n",
        "jurusan: str = \"Teknik Elektro\"\n",
        "prodi: str = \"TRPE\"\n",
        "kelas: str = \"Pagi A\"\n",
        "semester: int = 3\n",
        "mata_kuliah: str = [\"Pemrograman Dasar\", \"Kimia Dasar\", \"Teknopreneurship\"]\n",
        "hobi: str = [\"bernyanyi\", \"memasak\", \"hairstylist\"]\n",
        "\n",
        "\n",
        "print(\"Nama:\", nama)\n",
        "print(\"Nim:\", nim)\n",
        "print(\"Umur:\", umur)\n",
        "print(\"Jurusan:\", jurusan)\n",
        "print(\"Prodi:\", prodi)\n",
        "print(\"Kelas:\", kelas)\n",
        "print(\"Semester:\", semester)\n",
        "print(\"Mata Kuliah:\", \", \".join(mata_kuliah))\n",
        "print(\"Hobi:\", \", \".join(hobi))"
      ],
      "metadata": {
        "colab": {
          "base_uri": "https://localhost:8080/"
        },
        "id": "pxaqx6p153HF",
        "outputId": "2f3b27d9-c5b4-43af-9dc7-15196d046109"
      },
      "execution_count": 2,
      "outputs": [
        {
          "output_type": "stream",
          "name": "stdout",
          "text": [
            "Nama: Sri Melati\n",
            "Nim: 4232401025\n",
            "Umur: 20\n",
            "Jurusan: Teknik Elektro\n",
            "Prodi: TRPE\n",
            "Kelas: Pagi A\n",
            "Semester: 3\n",
            "Mata Kuliah: Pemrograman Dasar, Kimia Dasar, Teknopreneurship\n",
            "Hobi: bernyanyi, memasak, hairstylist\n"
          ]
        }
      ]
    }
  ]
}